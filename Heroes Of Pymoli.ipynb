{
 "cells": [
  {
   "cell_type": "markdown",
   "metadata": {},
   "source": [
    "# Heroes of Pymoli\n",
    "\n",
    "The Heoroes of Pymoli is a free-to-play game that encourages players to purchase items to enhance their playing experience.  Using the data gathered from the software, we came up with the following analysis\n",
    "\n",
    "+ There are about 573 registered players of which 81% are males.\n",
    "+ Players between the ages of 20-24 purchase more of the optional items.\n",
    "+ Item prices average about $2.83.\n",
    "+ Lower priced items are more popular than higher priced items.\n",
    "+ The game's audience tends to lean to teenagers (15-19) and young adults (20-24).\n",
    "+ The most profitale items are not considered the most popular items."
   ]
  },
  {
   "cell_type": "code",
   "execution_count": 1,
   "metadata": {},
   "outputs": [],
   "source": [
    "import pandas as pd\n",
    "import numpy as np\n",
    "\n",
    "# open json file\n",
    "data_file = \"Resources/purchase_data.json\"\n",
    "# data_file_pd = pd.read_json(data_file)\n",
    "data_file_pd = pd.read_json(data_file)"
   ]
  },
  {
   "cell_type": "code",
   "execution_count": 2,
   "metadata": {},
   "outputs": [
    {
     "data": {
      "text/plain": [
       "Index(['Age', 'Gender', 'Item ID', 'Item Name', 'Price', 'SN'], dtype='object')"
      ]
     },
     "execution_count": 2,
     "metadata": {},
     "output_type": "execute_result"
    }
   ],
   "source": [
    "# read columns\n",
    "data_file_pd.columns"
   ]
  },
  {
   "cell_type": "markdown",
   "metadata": {},
   "source": [
    "## Player Count"
   ]
  },
  {
   "cell_type": "code",
   "execution_count": 3,
   "metadata": {},
   "outputs": [
    {
     "data": {
      "text/html": [
       "<style  type=\"text/css\" >\n",
       "</style>  \n",
       "<table id=\"T_7bcff764_8f4f_11e7_a7e8_c821588b3f07\" > \n",
       "<thead>    <tr> \n",
       "        <th class=\"blank level0\" ></th> \n",
       "        <th class=\"col_heading level0 col0\" >Total Players</th> \n",
       "    </tr></thead> \n",
       "<tbody>    <tr> \n",
       "        <th id=\"T_7bcff764_8f4f_11e7_a7e8_c821588b3f07\" class=\"row_heading level0 row0\" >0</th> \n",
       "        <td id=\"T_7bcff764_8f4f_11e7_a7e8_c821588b3f07row0_col0\" class=\"data row0 col0\" >573</td> \n",
       "    </tr></tbody> \n",
       "</table> "
      ],
      "text/plain": [
       "<pandas.io.formats.style.Styler at 0x1e3c37deb00>"
      ]
     },
     "execution_count": 3,
     "metadata": {},
     "output_type": "execute_result"
    }
   ],
   "source": [
    "# total number of uniques players\n",
    "totalplayers= data_file_pd['SN'].nunique()\n",
    "playerCount = pd.DataFrame([totalplayers], columns=['Total Players'])\n",
    "playerCount.style.format({\"Total Players\": \"{:,}\"})"
   ]
  },
  {
   "cell_type": "markdown",
   "metadata": {},
   "source": [
    "## Purchasing Analysis (Total)"
   ]
  },
  {
   "cell_type": "code",
   "execution_count": 4,
   "metadata": {},
   "outputs": [
    {
     "data": {
      "text/html": [
       "<style  type=\"text/css\" >\n",
       "</style>  \n",
       "<table id=\"T_7bd221a2_8f4f_11e7_bdc8_c821588b3f07\" > \n",
       "<thead>    <tr> \n",
       "        <th class=\"blank level0\" ></th> \n",
       "        <th class=\"col_heading level0 col0\" >Number of Unique Items</th> \n",
       "        <th class=\"col_heading level0 col1\" >Average Price</th> \n",
       "        <th class=\"col_heading level0 col2\" >Number of Purchases</th> \n",
       "        <th class=\"col_heading level0 col3\" >Total Revenue</th> \n",
       "    </tr></thead> \n",
       "<tbody>    <tr> \n",
       "        <th id=\"T_7bd221a2_8f4f_11e7_bdc8_c821588b3f07\" class=\"row_heading level0 row0\" >0</th> \n",
       "        <td id=\"T_7bd221a2_8f4f_11e7_bdc8_c821588b3f07row0_col0\" class=\"data row0 col0\" >183</td> \n",
       "        <td id=\"T_7bd221a2_8f4f_11e7_bdc8_c821588b3f07row0_col1\" class=\"data row0 col1\" >$2.93</td> \n",
       "        <td id=\"T_7bd221a2_8f4f_11e7_bdc8_c821588b3f07row0_col2\" class=\"data row0 col2\" >780</td> \n",
       "        <td id=\"T_7bd221a2_8f4f_11e7_bdc8_c821588b3f07row0_col3\" class=\"data row0 col3\" >$2,286.33</td> \n",
       "    </tr></tbody> \n",
       "</table> "
      ],
      "text/plain": [
       "<pandas.io.formats.style.Styler at 0x1e3c37d1c50>"
      ]
     },
     "execution_count": 4,
     "metadata": {},
     "output_type": "execute_result"
    }
   ],
   "source": [
    "# Total number of unique items\n",
    "totalItems = data_file_pd['Item ID'].nunique()\n",
    "\n",
    "# Total number of Purchases\n",
    "totalPurchase = data_file_pd['Price'].count()\n",
    "\n",
    "# Average purchase price\n",
    "averagePrice = data_file_pd['Price'].mean()\n",
    "\n",
    "# Total Revenue\n",
    "totalRevenue = round(data_file_pd['Price'].sum(), 2)\n",
    "\n",
    "\n",
    "\n",
    "\n",
    "totalAnalysis_df = pd.DataFrame([[totalItems,averagePrice,totalPurchase,totalRevenue]], columns=['Number of Unique Items','Average Price','Number of Purchases','Total Revenue'])\n",
    "totalAnalysis_df.style.format({\"Number of Purchase\": \"{:,}\",\"Number of Unique Items\": \"{:,}\",\"Average Price\": \"${:,.2f}\", \"Total Revenue\": \"${:,.2f}\"})"
   ]
  },
  {
   "cell_type": "markdown",
   "metadata": {},
   "source": [
    "## Gender Demographics"
   ]
  },
  {
   "cell_type": "code",
   "execution_count": 5,
   "metadata": {},
   "outputs": [
    {
     "data": {
      "text/plain": [
       "Gender\n",
       "Female                   100\n",
       "Male                     465\n",
       "Other / Non-Disclosed      8\n",
       "Name: SN, dtype: int64"
      ]
     },
     "execution_count": 5,
     "metadata": {},
     "output_type": "execute_result"
    }
   ],
   "source": [
    "# pd.options.display.float_format = '{:,.2f}'.format\n",
    "uniqueSN =pd.DataFrame (data_file_pd['SN'].unique(), columns=['SN'])\n",
    "gender = data_file_pd.groupby(['Gender'])['SN'].nunique()\n",
    "gender_df = pd.DataFrame(index=[\"Female\", \"Male\", \"Other / Non-Disclosed\"])\n",
    "gender"
   ]
  },
  {
   "cell_type": "code",
   "execution_count": 6,
   "metadata": {
    "collapsed": true
   },
   "outputs": [],
   "source": [
    "percent = data_file_pd.groupby(['Gender'])['SN'].nunique()/totalplayers * 100\n",
    "# percent"
   ]
  },
  {
   "cell_type": "code",
   "execution_count": 7,
   "metadata": {
    "collapsed": true
   },
   "outputs": [],
   "source": [
    "gender_df[\"Percentage of Players\"] = percent\n",
    "# gender_df"
   ]
  },
  {
   "cell_type": "code",
   "execution_count": 8,
   "metadata": {},
   "outputs": [
    {
     "data": {
      "text/html": [
       "<style  type=\"text/css\" >\n",
       "</style>  \n",
       "<table id=\"T_7be06c24_8f4f_11e7_8599_c821588b3f07\" > \n",
       "<thead>    <tr> \n",
       "        <th class=\"blank level0\" ></th> \n",
       "        <th class=\"col_heading level0 col0\" >Percentage of Players</th> \n",
       "        <th class=\"col_heading level0 col1\" >Total Count</th> \n",
       "    </tr></thead> \n",
       "<tbody>    <tr> \n",
       "        <th id=\"T_7be06c24_8f4f_11e7_8599_c821588b3f07\" class=\"row_heading level0 row0\" >Female</th> \n",
       "        <td id=\"T_7be06c24_8f4f_11e7_8599_c821588b3f07row0_col0\" class=\"data row0 col0\" >17.45</td> \n",
       "        <td id=\"T_7be06c24_8f4f_11e7_8599_c821588b3f07row0_col1\" class=\"data row0 col1\" >100</td> \n",
       "    </tr>    <tr> \n",
       "        <th id=\"T_7be06c24_8f4f_11e7_8599_c821588b3f07\" class=\"row_heading level0 row1\" >Male</th> \n",
       "        <td id=\"T_7be06c24_8f4f_11e7_8599_c821588b3f07row1_col0\" class=\"data row1 col0\" >81.15</td> \n",
       "        <td id=\"T_7be06c24_8f4f_11e7_8599_c821588b3f07row1_col1\" class=\"data row1 col1\" >465</td> \n",
       "    </tr>    <tr> \n",
       "        <th id=\"T_7be06c24_8f4f_11e7_8599_c821588b3f07\" class=\"row_heading level0 row2\" >Other / Non-Disclosed</th> \n",
       "        <td id=\"T_7be06c24_8f4f_11e7_8599_c821588b3f07row2_col0\" class=\"data row2 col0\" >1.40</td> \n",
       "        <td id=\"T_7be06c24_8f4f_11e7_8599_c821588b3f07row2_col1\" class=\"data row2 col1\" >8</td> \n",
       "    </tr></tbody> \n",
       "</table> "
      ],
      "text/plain": [
       "<pandas.io.formats.style.Styler at 0x1e3c37dec50>"
      ]
     },
     "execution_count": 8,
     "metadata": {},
     "output_type": "execute_result"
    }
   ],
   "source": [
    "gender_df['Total Count'] = gender\n",
    "gender_df.style.format({\"Total Count\": \"{:,}\",\"Percentage of Players\": \"{:,.2f}\"})"
   ]
  },
  {
   "cell_type": "markdown",
   "metadata": {
    "collapsed": true
   },
   "source": [
    "## Purchasing Analysis (Gender)"
   ]
  },
  {
   "cell_type": "code",
   "execution_count": 9,
   "metadata": {},
   "outputs": [
    {
     "data": {
      "text/html": [
       "<style  type=\"text/css\" >\n",
       "</style>  \n",
       "<table id=\"T_7be419ba_8f4f_11e7_9815_c821588b3f07\" > \n",
       "<thead>    <tr> \n",
       "        <th class=\"blank level0\" ></th> \n",
       "        <th class=\"col_heading level0 col0\" >Purchase Count</th> \n",
       "        <th class=\"col_heading level0 col1\" >Average Purchase Price</th> \n",
       "        <th class=\"col_heading level0 col2\" >Total Purchase Value</th> \n",
       "        <th class=\"col_heading level0 col3\" >Normalized Totals</th> \n",
       "    </tr>    <tr> \n",
       "        <th class=\"index_name level0\" >Gender</th> \n",
       "        <th class=\"blank\" ></th> \n",
       "        <th class=\"blank\" ></th> \n",
       "        <th class=\"blank\" ></th> \n",
       "        <th class=\"blank\" ></th> \n",
       "    </tr></thead> \n",
       "<tbody>    <tr> \n",
       "        <th id=\"T_7be419ba_8f4f_11e7_9815_c821588b3f07\" class=\"row_heading level0 row0\" >Female</th> \n",
       "        <td id=\"T_7be419ba_8f4f_11e7_9815_c821588b3f07row0_col0\" class=\"data row0 col0\" >136</td> \n",
       "        <td id=\"T_7be419ba_8f4f_11e7_9815_c821588b3f07row0_col1\" class=\"data row0 col1\" >$2.82</td> \n",
       "        <td id=\"T_7be419ba_8f4f_11e7_9815_c821588b3f07row0_col2\" class=\"data row0 col2\" >$382.91</td> \n",
       "        <td id=\"T_7be419ba_8f4f_11e7_9815_c821588b3f07row0_col3\" class=\"data row0 col3\" >$3.83</td> \n",
       "    </tr>    <tr> \n",
       "        <th id=\"T_7be419ba_8f4f_11e7_9815_c821588b3f07\" class=\"row_heading level0 row1\" >Male</th> \n",
       "        <td id=\"T_7be419ba_8f4f_11e7_9815_c821588b3f07row1_col0\" class=\"data row1 col0\" >633</td> \n",
       "        <td id=\"T_7be419ba_8f4f_11e7_9815_c821588b3f07row1_col1\" class=\"data row1 col1\" >$2.95</td> \n",
       "        <td id=\"T_7be419ba_8f4f_11e7_9815_c821588b3f07row1_col2\" class=\"data row1 col2\" >$1,867.68</td> \n",
       "        <td id=\"T_7be419ba_8f4f_11e7_9815_c821588b3f07row1_col3\" class=\"data row1 col3\" >$4.02</td> \n",
       "    </tr>    <tr> \n",
       "        <th id=\"T_7be419ba_8f4f_11e7_9815_c821588b3f07\" class=\"row_heading level0 row2\" >Other / Non-Disclosed</th> \n",
       "        <td id=\"T_7be419ba_8f4f_11e7_9815_c821588b3f07row2_col0\" class=\"data row2 col0\" >11</td> \n",
       "        <td id=\"T_7be419ba_8f4f_11e7_9815_c821588b3f07row2_col1\" class=\"data row2 col1\" >$3.25</td> \n",
       "        <td id=\"T_7be419ba_8f4f_11e7_9815_c821588b3f07row2_col2\" class=\"data row2 col2\" >$35.74</td> \n",
       "        <td id=\"T_7be419ba_8f4f_11e7_9815_c821588b3f07row2_col3\" class=\"data row2 col3\" >$4.47</td> \n",
       "    </tr></tbody> \n",
       "</table> "
      ],
      "text/plain": [
       "<pandas.io.formats.style.Styler at 0x1e3c4217518>"
      ]
     },
     "execution_count": 9,
     "metadata": {},
     "output_type": "execute_result"
    }
   ],
   "source": [
    "# find the Price count, mean, sum, normalized totals by Gender\n",
    "genderGroup_df = data_file_pd.groupby(['Gender'])\n",
    "\n",
    "purchaseCount = genderGroup_df[\"Price\"].count()\n",
    "averagePrice = round(genderGroup_df[\"Price\"].mean(), 2)\n",
    "totalPurchase = genderGroup_df[\"Price\"].sum()\n",
    "normalizedTotals = round(totalPurchase/genderGroup_df[\"SN\"].nunique(), 2)\n",
    "\n",
    "genderPurchase_df = pd.DataFrame({\n",
    "    'Purchase Count': purchaseCount,\n",
    "    'Average Purchase Price': averagePrice,\n",
    "    'Total Purchase Value': totalPurchase,\n",
    "    'Normalized Totals': normalizedTotals\n",
    "})\n",
    "\n",
    "# rearrange the columns\n",
    "genderPurchase_final = genderPurchase_df[[\"Purchase Count\", \"Average Purchase Price\", \"Total Purchase Value\", \"Normalized Totals\"]]\n",
    "genderPurchase_final.style.format({\"Total Revenue\": \"{:,}\",\"Number of Unique Items\": \"{:,}\",\"Average Purchase\": \"{:,.2f}%\", \"Total Revenue\": \"${:,.2f}\"})\n",
    "genderPurchase_final.style.format({\"Purchase Count\": \"{:,}\",\"Normalized Totals\": \"${:,.2f}\",\"Average Purchase Price\": \"${:,.2f}\",\"Total Purchase Value\": \"${:,.2f}\"})"
   ]
  },
  {
   "cell_type": "markdown",
   "metadata": {},
   "source": [
    "## Age Demographics"
   ]
  },
  {
   "cell_type": "code",
   "execution_count": 10,
   "metadata": {},
   "outputs": [],
   "source": [
    "# setup bins and labels\n",
    "agebins =[0,10,15,20,25,30,35,40,data_file_pd['Age'].max()+1]\n",
    "binlabels = [\" <10\",\"10-14\",\"15-19\",\"20-24\",\"25-29\",\"30-34\",\"35-39\",\"40+\"]\n",
    "\n",
    "# create an age bin\n",
    "purchase_data = data_file_pd.copy()\n",
    "purchase_data['AgeBins'] =pd.cut(data_file_pd[\"Age\"], bins=agebins,labels=binlabels,include_lowest=True, right=False)"
   ]
  },
  {
   "cell_type": "code",
   "execution_count": 11,
   "metadata": {},
   "outputs": [
    {
     "data": {
      "text/html": [
       "<style  type=\"text/css\" >\n",
       "</style>  \n",
       "<table id=\"T_7be91646_8f4f_11e7_adb0_c821588b3f07\" > \n",
       "<thead>    <tr> \n",
       "        <th class=\"blank level0\" ></th> \n",
       "        <th class=\"col_heading level0 col0\" >Percentage of Players</th> \n",
       "        <th class=\"col_heading level0 col1\" >Total Count</th> \n",
       "    </tr>    <tr> \n",
       "        <th class=\"index_name level0\" >AgeBins</th> \n",
       "        <th class=\"blank\" ></th> \n",
       "        <th class=\"blank\" ></th> \n",
       "    </tr></thead> \n",
       "<tbody>    <tr> \n",
       "        <th id=\"T_7be91646_8f4f_11e7_adb0_c821588b3f07\" class=\"row_heading level0 row0\" > <10</th> \n",
       "        <td id=\"T_7be91646_8f4f_11e7_adb0_c821588b3f07row0_col0\" class=\"data row0 col0\" >3.32</td> \n",
       "        <td id=\"T_7be91646_8f4f_11e7_adb0_c821588b3f07row0_col1\" class=\"data row0 col1\" >19</td> \n",
       "    </tr>    <tr> \n",
       "        <th id=\"T_7be91646_8f4f_11e7_adb0_c821588b3f07\" class=\"row_heading level0 row1\" >10-14</th> \n",
       "        <td id=\"T_7be91646_8f4f_11e7_adb0_c821588b3f07row1_col0\" class=\"data row1 col0\" >4.01</td> \n",
       "        <td id=\"T_7be91646_8f4f_11e7_adb0_c821588b3f07row1_col1\" class=\"data row1 col1\" >23</td> \n",
       "    </tr>    <tr> \n",
       "        <th id=\"T_7be91646_8f4f_11e7_adb0_c821588b3f07\" class=\"row_heading level0 row2\" >15-19</th> \n",
       "        <td id=\"T_7be91646_8f4f_11e7_adb0_c821588b3f07row2_col0\" class=\"data row2 col0\" >17.45</td> \n",
       "        <td id=\"T_7be91646_8f4f_11e7_adb0_c821588b3f07row2_col1\" class=\"data row2 col1\" >100</td> \n",
       "    </tr>    <tr> \n",
       "        <th id=\"T_7be91646_8f4f_11e7_adb0_c821588b3f07\" class=\"row_heading level0 row3\" >20-24</th> \n",
       "        <td id=\"T_7be91646_8f4f_11e7_adb0_c821588b3f07row3_col0\" class=\"data row3 col0\" >45.20</td> \n",
       "        <td id=\"T_7be91646_8f4f_11e7_adb0_c821588b3f07row3_col1\" class=\"data row3 col1\" >259</td> \n",
       "    </tr>    <tr> \n",
       "        <th id=\"T_7be91646_8f4f_11e7_adb0_c821588b3f07\" class=\"row_heading level0 row4\" >25-29</th> \n",
       "        <td id=\"T_7be91646_8f4f_11e7_adb0_c821588b3f07row4_col0\" class=\"data row4 col0\" >15.18</td> \n",
       "        <td id=\"T_7be91646_8f4f_11e7_adb0_c821588b3f07row4_col1\" class=\"data row4 col1\" >87</td> \n",
       "    </tr>    <tr> \n",
       "        <th id=\"T_7be91646_8f4f_11e7_adb0_c821588b3f07\" class=\"row_heading level0 row5\" >30-34</th> \n",
       "        <td id=\"T_7be91646_8f4f_11e7_adb0_c821588b3f07row5_col0\" class=\"data row5 col0\" >8.20</td> \n",
       "        <td id=\"T_7be91646_8f4f_11e7_adb0_c821588b3f07row5_col1\" class=\"data row5 col1\" >47</td> \n",
       "    </tr>    <tr> \n",
       "        <th id=\"T_7be91646_8f4f_11e7_adb0_c821588b3f07\" class=\"row_heading level0 row6\" >35-39</th> \n",
       "        <td id=\"T_7be91646_8f4f_11e7_adb0_c821588b3f07row6_col0\" class=\"data row6 col0\" >4.71</td> \n",
       "        <td id=\"T_7be91646_8f4f_11e7_adb0_c821588b3f07row6_col1\" class=\"data row6 col1\" >27</td> \n",
       "    </tr>    <tr> \n",
       "        <th id=\"T_7be91646_8f4f_11e7_adb0_c821588b3f07\" class=\"row_heading level0 row7\" >40+</th> \n",
       "        <td id=\"T_7be91646_8f4f_11e7_adb0_c821588b3f07row7_col0\" class=\"data row7 col0\" >1.92</td> \n",
       "        <td id=\"T_7be91646_8f4f_11e7_adb0_c821588b3f07row7_col1\" class=\"data row7 col1\" >11</td> \n",
       "    </tr></tbody> \n",
       "</table> "
      ],
      "text/plain": [
       "<pandas.io.formats.style.Styler at 0x1e3c420a5f8>"
      ]
     },
     "execution_count": 11,
     "metadata": {},
     "output_type": "execute_result"
    }
   ],
   "source": [
    "playerCount = purchase_data.groupby(['AgeBins'])['SN'].nunique()\n",
    "percentPlayer = round((playerCount/totalplayers)*100, 2)\n",
    "\n",
    "ageDemographics_final = pd.DataFrame({\n",
    "    \"Total Count\": playerCount,\n",
    "    \"Percentage of Players\": percentPlayer\n",
    "})\n",
    "\n",
    "ageDemographics_final.style.format({\"Percentage of Players\": \"{:,.2f}\"})\n"
   ]
  },
  {
   "cell_type": "markdown",
   "metadata": {},
   "source": [
    "## Purchase Analysis (Age)"
   ]
  },
  {
   "cell_type": "code",
   "execution_count": 12,
   "metadata": {},
   "outputs": [
    {
     "data": {
      "text/html": [
       "<style  type=\"text/css\" >\n",
       "</style>  \n",
       "<table id=\"T_7bede1ba_8f4f_11e7_9579_c821588b3f07\" > \n",
       "<thead>    <tr> \n",
       "        <th class=\"blank level0\" ></th> \n",
       "        <th class=\"col_heading level0 col0\" >Purchase Count</th> \n",
       "        <th class=\"col_heading level0 col1\" >Average Purchase Price</th> \n",
       "        <th class=\"col_heading level0 col2\" >Total Purchase Value</th> \n",
       "        <th class=\"col_heading level0 col3\" >Normalized Totals</th> \n",
       "    </tr>    <tr> \n",
       "        <th class=\"index_name level0\" >AgeBins</th> \n",
       "        <th class=\"blank\" ></th> \n",
       "        <th class=\"blank\" ></th> \n",
       "        <th class=\"blank\" ></th> \n",
       "        <th class=\"blank\" ></th> \n",
       "    </tr></thead> \n",
       "<tbody>    <tr> \n",
       "        <th id=\"T_7bede1ba_8f4f_11e7_9579_c821588b3f07\" class=\"row_heading level0 row0\" > <10</th> \n",
       "        <td id=\"T_7bede1ba_8f4f_11e7_9579_c821588b3f07row0_col0\" class=\"data row0 col0\" >28</td> \n",
       "        <td id=\"T_7bede1ba_8f4f_11e7_9579_c821588b3f07row0_col1\" class=\"data row0 col1\" >$2.98</td> \n",
       "        <td id=\"T_7bede1ba_8f4f_11e7_9579_c821588b3f07row0_col2\" class=\"data row0 col2\" >$83.46</td> \n",
       "        <td id=\"T_7bede1ba_8f4f_11e7_9579_c821588b3f07row0_col3\" class=\"data row0 col3\" >$4.39</td> \n",
       "    </tr>    <tr> \n",
       "        <th id=\"T_7bede1ba_8f4f_11e7_9579_c821588b3f07\" class=\"row_heading level0 row1\" >10-14</th> \n",
       "        <td id=\"T_7bede1ba_8f4f_11e7_9579_c821588b3f07row1_col0\" class=\"data row1 col0\" >35</td> \n",
       "        <td id=\"T_7bede1ba_8f4f_11e7_9579_c821588b3f07row1_col1\" class=\"data row1 col1\" >$2.77</td> \n",
       "        <td id=\"T_7bede1ba_8f4f_11e7_9579_c821588b3f07row1_col2\" class=\"data row1 col2\" >$96.95</td> \n",
       "        <td id=\"T_7bede1ba_8f4f_11e7_9579_c821588b3f07row1_col3\" class=\"data row1 col3\" >$4.22</td> \n",
       "    </tr>    <tr> \n",
       "        <th id=\"T_7bede1ba_8f4f_11e7_9579_c821588b3f07\" class=\"row_heading level0 row2\" >15-19</th> \n",
       "        <td id=\"T_7bede1ba_8f4f_11e7_9579_c821588b3f07row2_col0\" class=\"data row2 col0\" >133</td> \n",
       "        <td id=\"T_7bede1ba_8f4f_11e7_9579_c821588b3f07row2_col1\" class=\"data row2 col1\" >$2.91</td> \n",
       "        <td id=\"T_7bede1ba_8f4f_11e7_9579_c821588b3f07row2_col2\" class=\"data row2 col2\" >$386.42</td> \n",
       "        <td id=\"T_7bede1ba_8f4f_11e7_9579_c821588b3f07row2_col3\" class=\"data row2 col3\" >$3.86</td> \n",
       "    </tr>    <tr> \n",
       "        <th id=\"T_7bede1ba_8f4f_11e7_9579_c821588b3f07\" class=\"row_heading level0 row3\" >20-24</th> \n",
       "        <td id=\"T_7bede1ba_8f4f_11e7_9579_c821588b3f07row3_col0\" class=\"data row3 col0\" >336</td> \n",
       "        <td id=\"T_7bede1ba_8f4f_11e7_9579_c821588b3f07row3_col1\" class=\"data row3 col1\" >$2.91</td> \n",
       "        <td id=\"T_7bede1ba_8f4f_11e7_9579_c821588b3f07row3_col2\" class=\"data row3 col2\" >$978.77</td> \n",
       "        <td id=\"T_7bede1ba_8f4f_11e7_9579_c821588b3f07row3_col3\" class=\"data row3 col3\" >$3.78</td> \n",
       "    </tr>    <tr> \n",
       "        <th id=\"T_7bede1ba_8f4f_11e7_9579_c821588b3f07\" class=\"row_heading level0 row4\" >25-29</th> \n",
       "        <td id=\"T_7bede1ba_8f4f_11e7_9579_c821588b3f07row4_col0\" class=\"data row4 col0\" >125</td> \n",
       "        <td id=\"T_7bede1ba_8f4f_11e7_9579_c821588b3f07row4_col1\" class=\"data row4 col1\" >$2.96</td> \n",
       "        <td id=\"T_7bede1ba_8f4f_11e7_9579_c821588b3f07row4_col2\" class=\"data row4 col2\" >$370.33</td> \n",
       "        <td id=\"T_7bede1ba_8f4f_11e7_9579_c821588b3f07row4_col3\" class=\"data row4 col3\" >$4.26</td> \n",
       "    </tr>    <tr> \n",
       "        <th id=\"T_7bede1ba_8f4f_11e7_9579_c821588b3f07\" class=\"row_heading level0 row5\" >30-34</th> \n",
       "        <td id=\"T_7bede1ba_8f4f_11e7_9579_c821588b3f07row5_col0\" class=\"data row5 col0\" >64</td> \n",
       "        <td id=\"T_7bede1ba_8f4f_11e7_9579_c821588b3f07row5_col1\" class=\"data row5 col1\" >$3.08</td> \n",
       "        <td id=\"T_7bede1ba_8f4f_11e7_9579_c821588b3f07row5_col2\" class=\"data row5 col2\" >$197.25</td> \n",
       "        <td id=\"T_7bede1ba_8f4f_11e7_9579_c821588b3f07row5_col3\" class=\"data row5 col3\" >$4.20</td> \n",
       "    </tr>    <tr> \n",
       "        <th id=\"T_7bede1ba_8f4f_11e7_9579_c821588b3f07\" class=\"row_heading level0 row6\" >35-39</th> \n",
       "        <td id=\"T_7bede1ba_8f4f_11e7_9579_c821588b3f07row6_col0\" class=\"data row6 col0\" >42</td> \n",
       "        <td id=\"T_7bede1ba_8f4f_11e7_9579_c821588b3f07row6_col1\" class=\"data row6 col1\" >$2.84</td> \n",
       "        <td id=\"T_7bede1ba_8f4f_11e7_9579_c821588b3f07row6_col2\" class=\"data row6 col2\" >$119.40</td> \n",
       "        <td id=\"T_7bede1ba_8f4f_11e7_9579_c821588b3f07row6_col3\" class=\"data row6 col3\" >$4.42</td> \n",
       "    </tr>    <tr> \n",
       "        <th id=\"T_7bede1ba_8f4f_11e7_9579_c821588b3f07\" class=\"row_heading level0 row7\" >40+</th> \n",
       "        <td id=\"T_7bede1ba_8f4f_11e7_9579_c821588b3f07row7_col0\" class=\"data row7 col0\" >17</td> \n",
       "        <td id=\"T_7bede1ba_8f4f_11e7_9579_c821588b3f07row7_col1\" class=\"data row7 col1\" >$3.16</td> \n",
       "        <td id=\"T_7bede1ba_8f4f_11e7_9579_c821588b3f07row7_col2\" class=\"data row7 col2\" >$53.75</td> \n",
       "        <td id=\"T_7bede1ba_8f4f_11e7_9579_c821588b3f07row7_col3\" class=\"data row7 col3\" >$4.89</td> \n",
       "    </tr></tbody> \n",
       "</table> "
      ],
      "text/plain": [
       "<pandas.io.formats.style.Styler at 0x1e3c423e438>"
      ]
     },
     "execution_count": 12,
     "metadata": {},
     "output_type": "execute_result"
    }
   ],
   "source": [
    "priceCount = purchase_data.groupby(['AgeBins'])['Price'].count()\n",
    "priceMean = round(purchase_data.groupby(['AgeBins'])['Price'].mean(), 2)\n",
    "priceSum = round(purchase_data.groupby(['AgeBins'])['Price'].sum(), 2)\n",
    "normalizedTotals = round((priceSum / purchase_data.groupby(['AgeBins'])['SN'].nunique()), 2)\n",
    "\n",
    "Purchase_Price_df = pd.DataFrame({\n",
    "    \"Purchase Count\": priceCount,\n",
    "    \"Average Purchase Price\" : priceMean,\n",
    "    \"Total Purchase Value\" : priceSum,\n",
    "    \"Normalized Totals\" : normalizedTotals\n",
    "})\n",
    "\n",
    "# Final report\n",
    "Purchase_By__Age_final = (Purchase_Price_df[[\"Purchase Count\", \"Average Purchase Price\", \"Total Purchase Value\",\"Normalized Totals\"]])\n",
    "Purchase_By__Age_final.style.format({\"Normalized Totals\": \"${:,.2f}\",\"Average Purchase Price\": \"${:,.2f}\",\"Total Purchase Value\": \"${:,.2f}\"})"
   ]
  },
  {
   "cell_type": "markdown",
   "metadata": {
    "collapsed": true
   },
   "source": [
    "## Top Spenders"
   ]
  },
  {
   "cell_type": "code",
   "execution_count": 13,
   "metadata": {},
   "outputs": [
    {
     "data": {
      "text/html": [
       "<style  type=\"text/css\" >\n",
       "</style>  \n",
       "<table id=\"T_7bf15324_8f4f_11e7_8b81_c821588b3f07\" > \n",
       "<thead>    <tr> \n",
       "        <th class=\"blank level0\" ></th> \n",
       "        <th class=\"col_heading level0 col0\" >Purchase Count</th> \n",
       "        <th class=\"col_heading level0 col1\" >Average Purchase Price</th> \n",
       "        <th class=\"col_heading level0 col2\" >Total Purchase Value</th> \n",
       "    </tr>    <tr> \n",
       "        <th class=\"index_name level0\" >SN</th> \n",
       "        <th class=\"blank\" ></th> \n",
       "        <th class=\"blank\" ></th> \n",
       "        <th class=\"blank\" ></th> \n",
       "    </tr></thead> \n",
       "<tbody>    <tr> \n",
       "        <th id=\"T_7bf15324_8f4f_11e7_8b81_c821588b3f07\" class=\"row_heading level0 row0\" >Undirrala66</th> \n",
       "        <td id=\"T_7bf15324_8f4f_11e7_8b81_c821588b3f07row0_col0\" class=\"data row0 col0\" >5</td> \n",
       "        <td id=\"T_7bf15324_8f4f_11e7_8b81_c821588b3f07row0_col1\" class=\"data row0 col1\" >$3.41</td> \n",
       "        <td id=\"T_7bf15324_8f4f_11e7_8b81_c821588b3f07row0_col2\" class=\"data row0 col2\" >$17.06</td> \n",
       "    </tr>    <tr> \n",
       "        <th id=\"T_7bf15324_8f4f_11e7_8b81_c821588b3f07\" class=\"row_heading level0 row1\" >Saedue76</th> \n",
       "        <td id=\"T_7bf15324_8f4f_11e7_8b81_c821588b3f07row1_col0\" class=\"data row1 col0\" >4</td> \n",
       "        <td id=\"T_7bf15324_8f4f_11e7_8b81_c821588b3f07row1_col1\" class=\"data row1 col1\" >$3.39</td> \n",
       "        <td id=\"T_7bf15324_8f4f_11e7_8b81_c821588b3f07row1_col2\" class=\"data row1 col2\" >$13.56</td> \n",
       "    </tr>    <tr> \n",
       "        <th id=\"T_7bf15324_8f4f_11e7_8b81_c821588b3f07\" class=\"row_heading level0 row2\" >Mindimnya67</th> \n",
       "        <td id=\"T_7bf15324_8f4f_11e7_8b81_c821588b3f07row2_col0\" class=\"data row2 col0\" >4</td> \n",
       "        <td id=\"T_7bf15324_8f4f_11e7_8b81_c821588b3f07row2_col1\" class=\"data row2 col1\" >$3.18</td> \n",
       "        <td id=\"T_7bf15324_8f4f_11e7_8b81_c821588b3f07row2_col2\" class=\"data row2 col2\" >$12.74</td> \n",
       "    </tr>    <tr> \n",
       "        <th id=\"T_7bf15324_8f4f_11e7_8b81_c821588b3f07\" class=\"row_heading level0 row3\" >Haellysu29</th> \n",
       "        <td id=\"T_7bf15324_8f4f_11e7_8b81_c821588b3f07row3_col0\" class=\"data row3 col0\" >3</td> \n",
       "        <td id=\"T_7bf15324_8f4f_11e7_8b81_c821588b3f07row3_col1\" class=\"data row3 col1\" >$4.24</td> \n",
       "        <td id=\"T_7bf15324_8f4f_11e7_8b81_c821588b3f07row3_col2\" class=\"data row3 col2\" >$12.73</td> \n",
       "    </tr>    <tr> \n",
       "        <th id=\"T_7bf15324_8f4f_11e7_8b81_c821588b3f07\" class=\"row_heading level0 row4\" >Eoda93</th> \n",
       "        <td id=\"T_7bf15324_8f4f_11e7_8b81_c821588b3f07row4_col0\" class=\"data row4 col0\" >3</td> \n",
       "        <td id=\"T_7bf15324_8f4f_11e7_8b81_c821588b3f07row4_col1\" class=\"data row4 col1\" >$3.86</td> \n",
       "        <td id=\"T_7bf15324_8f4f_11e7_8b81_c821588b3f07row4_col2\" class=\"data row4 col2\" >$11.58</td> \n",
       "    </tr></tbody> \n",
       "</table> "
      ],
      "text/plain": [
       "<pandas.io.formats.style.Styler at 0x1e3c423e2e8>"
      ]
     },
     "execution_count": 13,
     "metadata": {},
     "output_type": "execute_result"
    }
   ],
   "source": [
    "# find the count, average, and total by player\n",
    "priceCount = data_file_pd.groupby(['SN'])['Price'].count()\n",
    "priceAverage = round(data_file_pd.groupby(['SN'])['Price'].mean(), 2)\n",
    "priceTotal = round(data_file_pd.groupby(['SN'])['Price'].sum(), 2)\n",
    "# priceTotal\n",
    "\n",
    "topSpender_df = pd.DataFrame({\n",
    "    \"Purchase Count\" : priceCount,\n",
    "    \"Average Purchase Price\" : priceAverage,\n",
    "    \"Total Purchase Value\" : priceTotal\n",
    "})\n",
    "\n",
    "# List top 5 spenders in game\n",
    "topSpender_final = (topSpender_df[[\"Purchase Count\", \"Average Purchase Price\", \"Total Purchase Value\"]]).sort_values(\"Total Purchase Value\", ascending=False).head(5)\n",
    "topSpender_final.style.format({\"Average Purchase Price\": \"${:,.2f}\",\"Total Purchase Value\": \"${:,.2f}\"})"
   ]
  },
  {
   "cell_type": "markdown",
   "metadata": {},
   "source": [
    "## Most Popular Items"
   ]
  },
  {
   "cell_type": "code",
   "execution_count": 14,
   "metadata": {},
   "outputs": [
    {
     "data": {
      "text/html": [
       "<style  type=\"text/css\" >\n",
       "</style>  \n",
       "<table id=\"T_7bf4b34c_8f4f_11e7_988f_c821588b3f07\" > \n",
       "<thead>    <tr> \n",
       "        <th class=\"blank\" ></th> \n",
       "        <th class=\"blank level0\" ></th> \n",
       "        <th class=\"col_heading level0 col0\" >Purchase Count</th> \n",
       "        <th class=\"col_heading level0 col1\" >Item Price</th> \n",
       "        <th class=\"col_heading level0 col2\" >Total Purchase Value</th> \n",
       "    </tr>    <tr> \n",
       "        <th class=\"index_name level0\" >Item ID</th> \n",
       "        <th class=\"index_name level1\" >Item Name</th> \n",
       "        <th class=\"blank\" ></th> \n",
       "        <th class=\"blank\" ></th> \n",
       "        <th class=\"blank\" ></th> \n",
       "    </tr></thead> \n",
       "<tbody>    <tr> \n",
       "        <th id=\"T_7bf4b34c_8f4f_11e7_988f_c821588b3f07\" class=\"row_heading level0 row0\" >39</th> \n",
       "        <th id=\"T_7bf4b34c_8f4f_11e7_988f_c821588b3f07\" class=\"row_heading level1 row0\" >Betrayal, Whisper of Grieving Widows</th> \n",
       "        <td id=\"T_7bf4b34c_8f4f_11e7_988f_c821588b3f07row0_col0\" class=\"data row0 col0\" >11</td> \n",
       "        <td id=\"T_7bf4b34c_8f4f_11e7_988f_c821588b3f07row0_col1\" class=\"data row0 col1\" >$2.35</td> \n",
       "        <td id=\"T_7bf4b34c_8f4f_11e7_988f_c821588b3f07row0_col2\" class=\"data row0 col2\" >$25.85</td> \n",
       "    </tr>    <tr> \n",
       "        <th id=\"T_7bf4b34c_8f4f_11e7_988f_c821588b3f07\" class=\"row_heading level0 row1\" >84</th> \n",
       "        <th id=\"T_7bf4b34c_8f4f_11e7_988f_c821588b3f07\" class=\"row_heading level1 row1\" >Arcane Gem</th> \n",
       "        <td id=\"T_7bf4b34c_8f4f_11e7_988f_c821588b3f07row1_col0\" class=\"data row1 col0\" >11</td> \n",
       "        <td id=\"T_7bf4b34c_8f4f_11e7_988f_c821588b3f07row1_col1\" class=\"data row1 col1\" >$2.23</td> \n",
       "        <td id=\"T_7bf4b34c_8f4f_11e7_988f_c821588b3f07row1_col2\" class=\"data row1 col2\" >$24.53</td> \n",
       "    </tr>    <tr> \n",
       "        <th id=\"T_7bf4b34c_8f4f_11e7_988f_c821588b3f07\" class=\"row_heading level0 row2\" >31</th> \n",
       "        <th id=\"T_7bf4b34c_8f4f_11e7_988f_c821588b3f07\" class=\"row_heading level1 row2\" >Trickster</th> \n",
       "        <td id=\"T_7bf4b34c_8f4f_11e7_988f_c821588b3f07row2_col0\" class=\"data row2 col0\" >9</td> \n",
       "        <td id=\"T_7bf4b34c_8f4f_11e7_988f_c821588b3f07row2_col1\" class=\"data row2 col1\" >$2.07</td> \n",
       "        <td id=\"T_7bf4b34c_8f4f_11e7_988f_c821588b3f07row2_col2\" class=\"data row2 col2\" >$18.63</td> \n",
       "    </tr>    <tr> \n",
       "        <th id=\"T_7bf4b34c_8f4f_11e7_988f_c821588b3f07\" class=\"row_heading level0 row3\" >175</th> \n",
       "        <th id=\"T_7bf4b34c_8f4f_11e7_988f_c821588b3f07\" class=\"row_heading level1 row3\" >Woeful Adamantite Claymore</th> \n",
       "        <td id=\"T_7bf4b34c_8f4f_11e7_988f_c821588b3f07row3_col0\" class=\"data row3 col0\" >9</td> \n",
       "        <td id=\"T_7bf4b34c_8f4f_11e7_988f_c821588b3f07row3_col1\" class=\"data row3 col1\" >$1.24</td> \n",
       "        <td id=\"T_7bf4b34c_8f4f_11e7_988f_c821588b3f07row3_col2\" class=\"data row3 col2\" >$11.16</td> \n",
       "    </tr>    <tr> \n",
       "        <th id=\"T_7bf4b34c_8f4f_11e7_988f_c821588b3f07\" class=\"row_heading level0 row4\" >13</th> \n",
       "        <th id=\"T_7bf4b34c_8f4f_11e7_988f_c821588b3f07\" class=\"row_heading level1 row4\" >Serenity</th> \n",
       "        <td id=\"T_7bf4b34c_8f4f_11e7_988f_c821588b3f07row4_col0\" class=\"data row4 col0\" >9</td> \n",
       "        <td id=\"T_7bf4b34c_8f4f_11e7_988f_c821588b3f07row4_col1\" class=\"data row4 col1\" >$1.49</td> \n",
       "        <td id=\"T_7bf4b34c_8f4f_11e7_988f_c821588b3f07row4_col2\" class=\"data row4 col2\" >$13.41</td> \n",
       "    </tr></tbody> \n",
       "</table> "
      ],
      "text/plain": [
       "<pandas.io.formats.style.Styler at 0x1e3c423e828>"
      ]
     },
     "execution_count": 14,
     "metadata": {},
     "output_type": "execute_result"
    }
   ],
   "source": [
    "# Find count, average, and total by Item\n",
    "itemCount = data_file_pd.groupby(['Item ID','Item Name'])['Price'].count()\n",
    "itemPrice = round(data_file_pd.groupby(['Item ID','Item Name'])['Price'].max(), 2)\n",
    "itemTotal = round(data_file_pd.groupby(['Item ID','Item Name'])['Price'].sum(), 2)\n",
    "\n",
    "popularItems_df = pd.DataFrame({\n",
    "    \"Purchase Count\" : itemCount,\n",
    "    \"Item Price\" : itemPrice,\n",
    "    \"Total Purchase Value\" : itemTotal\n",
    "})\n",
    "\n",
    "# 5 most popular item\n",
    "popularItems_final = (popularItems_df[[\"Purchase Count\", \"Item Price\", \"Total Purchase Value\"]]).sort_values(\"Purchase Count\", ascending=False).head(5)\n",
    "popularItems_final.style.format({\"Item Price\": \"${:,.2f}\",\"Total Purchase Value\": \"${:,.2f}\"})"
   ]
  },
  {
   "cell_type": "markdown",
   "metadata": {},
   "source": [
    "## Most Profitable Items"
   ]
  },
  {
   "cell_type": "code",
   "execution_count": 15,
   "metadata": {},
   "outputs": [
    {
     "data": {
      "text/html": [
       "<style  type=\"text/css\" >\n",
       "</style>  \n",
       "<table id=\"T_7bf6b086_8f4f_11e7_9bd8_c821588b3f07\" > \n",
       "<thead>    <tr> \n",
       "        <th class=\"blank\" ></th> \n",
       "        <th class=\"blank level0\" ></th> \n",
       "        <th class=\"col_heading level0 col0\" >Purchase Count</th> \n",
       "        <th class=\"col_heading level0 col1\" >Item Price</th> \n",
       "        <th class=\"col_heading level0 col2\" >Total Purchase Value</th> \n",
       "    </tr>    <tr> \n",
       "        <th class=\"index_name level0\" >Item ID</th> \n",
       "        <th class=\"index_name level1\" >Item Name</th> \n",
       "        <th class=\"blank\" ></th> \n",
       "        <th class=\"blank\" ></th> \n",
       "        <th class=\"blank\" ></th> \n",
       "    </tr></thead> \n",
       "<tbody>    <tr> \n",
       "        <th id=\"T_7bf6b086_8f4f_11e7_9bd8_c821588b3f07\" class=\"row_heading level0 row0\" >34</th> \n",
       "        <th id=\"T_7bf6b086_8f4f_11e7_9bd8_c821588b3f07\" class=\"row_heading level1 row0\" >Retribution Axe</th> \n",
       "        <td id=\"T_7bf6b086_8f4f_11e7_9bd8_c821588b3f07row0_col0\" class=\"data row0 col0\" >9</td> \n",
       "        <td id=\"T_7bf6b086_8f4f_11e7_9bd8_c821588b3f07row0_col1\" class=\"data row0 col1\" >$4.14</td> \n",
       "        <td id=\"T_7bf6b086_8f4f_11e7_9bd8_c821588b3f07row0_col2\" class=\"data row0 col2\" >$37.26</td> \n",
       "    </tr>    <tr> \n",
       "        <th id=\"T_7bf6b086_8f4f_11e7_9bd8_c821588b3f07\" class=\"row_heading level0 row1\" >115</th> \n",
       "        <th id=\"T_7bf6b086_8f4f_11e7_9bd8_c821588b3f07\" class=\"row_heading level1 row1\" >Spectral Diamond Doomblade</th> \n",
       "        <td id=\"T_7bf6b086_8f4f_11e7_9bd8_c821588b3f07row1_col0\" class=\"data row1 col0\" >7</td> \n",
       "        <td id=\"T_7bf6b086_8f4f_11e7_9bd8_c821588b3f07row1_col1\" class=\"data row1 col1\" >$4.25</td> \n",
       "        <td id=\"T_7bf6b086_8f4f_11e7_9bd8_c821588b3f07row1_col2\" class=\"data row1 col2\" >$29.75</td> \n",
       "    </tr>    <tr> \n",
       "        <th id=\"T_7bf6b086_8f4f_11e7_9bd8_c821588b3f07\" class=\"row_heading level0 row2\" >32</th> \n",
       "        <th id=\"T_7bf6b086_8f4f_11e7_9bd8_c821588b3f07\" class=\"row_heading level1 row2\" >Orenmir</th> \n",
       "        <td id=\"T_7bf6b086_8f4f_11e7_9bd8_c821588b3f07row2_col0\" class=\"data row2 col0\" >6</td> \n",
       "        <td id=\"T_7bf6b086_8f4f_11e7_9bd8_c821588b3f07row2_col1\" class=\"data row2 col1\" >$4.95</td> \n",
       "        <td id=\"T_7bf6b086_8f4f_11e7_9bd8_c821588b3f07row2_col2\" class=\"data row2 col2\" >$29.70</td> \n",
       "    </tr>    <tr> \n",
       "        <th id=\"T_7bf6b086_8f4f_11e7_9bd8_c821588b3f07\" class=\"row_heading level0 row3\" >103</th> \n",
       "        <th id=\"T_7bf6b086_8f4f_11e7_9bd8_c821588b3f07\" class=\"row_heading level1 row3\" >Singed Scalpel</th> \n",
       "        <td id=\"T_7bf6b086_8f4f_11e7_9bd8_c821588b3f07row3_col0\" class=\"data row3 col0\" >6</td> \n",
       "        <td id=\"T_7bf6b086_8f4f_11e7_9bd8_c821588b3f07row3_col1\" class=\"data row3 col1\" >$4.87</td> \n",
       "        <td id=\"T_7bf6b086_8f4f_11e7_9bd8_c821588b3f07row3_col2\" class=\"data row3 col2\" >$29.22</td> \n",
       "    </tr>    <tr> \n",
       "        <th id=\"T_7bf6b086_8f4f_11e7_9bd8_c821588b3f07\" class=\"row_heading level0 row4\" >107</th> \n",
       "        <th id=\"T_7bf6b086_8f4f_11e7_9bd8_c821588b3f07\" class=\"row_heading level1 row4\" >Splitter, Foe Of Subtlety</th> \n",
       "        <td id=\"T_7bf6b086_8f4f_11e7_9bd8_c821588b3f07row4_col0\" class=\"data row4 col0\" >8</td> \n",
       "        <td id=\"T_7bf6b086_8f4f_11e7_9bd8_c821588b3f07row4_col1\" class=\"data row4 col1\" >$3.61</td> \n",
       "        <td id=\"T_7bf6b086_8f4f_11e7_9bd8_c821588b3f07row4_col2\" class=\"data row4 col2\" >$28.88</td> \n",
       "    </tr></tbody> \n",
       "</table> "
      ],
      "text/plain": [
       "<pandas.io.formats.style.Styler at 0x1e3c420a9e8>"
      ]
     },
     "execution_count": 15,
     "metadata": {},
     "output_type": "execute_result"
    }
   ],
   "source": [
    "# 5 most profitable item\n",
    "popularItems_final = (popularItems_df[[\"Purchase Count\", \"Item Price\", \"Total Purchase Value\"]]).sort_values(\"Total Purchase Value\", ascending=False).head(5)\n",
    "popularItems_final.style.format({\"Item Price\": \"${:,.2f}\",\"Total Purchase Value\": \"${:,.2f}\"})"
   ]
  }
 ],
 "metadata": {
  "kernelspec": {
   "display_name": "Python [conda env:PythonData]",
   "language": "python",
   "name": "conda-env-PythonData-py"
  },
  "language_info": {
   "codemirror_mode": {
    "name": "ipython",
    "version": 3
   },
   "file_extension": ".py",
   "mimetype": "text/x-python",
   "name": "python",
   "nbconvert_exporter": "python",
   "pygments_lexer": "ipython3",
   "version": "3.6.1"
  }
 },
 "nbformat": 4,
 "nbformat_minor": 2
}
